{
 "cells": [
  {
   "cell_type": "code",
   "execution_count": 42,
   "metadata": {},
   "outputs": [],
   "source": [
    "import socket\n",
    "import re\n",
    "import sys\n",
    "import signal"
   ]
  },
  {
   "cell_type": "code",
   "execution_count": 44,
   "metadata": {},
   "outputs": [
    {
     "name": "stdout",
     "output_type": "stream",
     "text": [
      "process listening on port 7713...\n",
      "connected established by ('127.0.0.1', 58051)..!\n",
      "data received:\n",
      "b'GET /google.com HTTP/1.1\\r\\nHost: 127.0.0.1:7713\\r\\nUser-Agent: Mozilla/5.0 (Macintosh; Intel Mac OS X 10.15; rv:124.0) Gecko/20100101 Firefox/124.0\\r\\nAccept: text/html,application/xhtml+xml,application/xml;q=0.9,image/avif,image/webp,*/*;q=0.8\\r\\nAccept-Language: en-US,en;q=0.5\\r\\nAccept-Encoding: gzip, deflate, br\\r\\nDNT: 1\\r\\nSec-GPC: 1\\r\\nConnection: keep-alive\\r\\nUpgrade-Insecure-Requests: 1\\r\\nSec-Fetch-Dest: document\\r\\nSec-Fetch-Mode: navigate\\r\\nSec-Fetch-Site: none\\r\\nSec-Fetch-User: ?1\\r\\n\\r\\n'\n",
      "\n",
      "kill caught, closing socket..!\n"
     ]
    },
    {
     "ename": "SystemExit",
     "evalue": "0",
     "output_type": "error",
     "traceback": [
      "An exception has occurred, use %tb to see the full traceback.\n",
      "\u001b[0;31mSystemExit\u001b[0m\u001b[0;31m:\u001b[0m 0\n"
     ]
    }
   ],
   "source": [
    "class WebProxy:\n",
    "    def __init__(self, host, port):\n",
    "        self.host = host\n",
    "        self.port = port\n",
    "        self.data_list = list()\n",
    "        self.running = True\n",
    "\n",
    "        # reserve namespace\n",
    "        self.socket = None\n",
    "\n",
    "    def signal_handler(self, sig, frame):\n",
    "        print('kill caught, closing socket..!')\n",
    "        self.socket.close()\n",
    "        self.running = False\n",
    "        sys.exit(0)\n",
    "\n",
    "    def start_listener(self):\n",
    "        # register interrupt handler\n",
    "        signal.signal(signal.SIGINT, self.signal_handler)\n",
    "\n",
    "        # bind socket to port and start listening\n",
    "        self.socket = socket.socket(socket.AF_INET, socket.SOCK_STREAM)\n",
    "        self.socket.bind((self.host, self.port))\n",
    "        self.socket.listen()\n",
    "        print(f\"process listening on port {self.port}...\")\n",
    "\n",
    "        \n",
    "    \n",
    "    def run(self):\n",
    "        while self.running:\n",
    "            connection, address = self.socket.accept()\n",
    "            with connection as c:\n",
    "                print(f\"connected established by {address}..!\")\n",
    "                while True:\n",
    "                    data = c.recv(1024)\n",
    "                    self.data_list.append(data)\n",
    "\n",
    "                    print(f\"data received:\\n{data}\\n\")\n",
    "                    if not data:\n",
    "                        break\n",
    "\n",
    "                    c.sendall(data)\n",
    "\n",
    "class HttpParser:\n",
    "    def __init__(self, data):\n",
    "        self.raw = data\n",
    "        self.dict = dict()\n",
    "\n",
    "        # decode raw byte string using iso-8859-1 encoding\n",
    "        self.string = self._decode_bytes()\n",
    "        self._parse_string()\n",
    "\n",
    "    def _decode_bytes(self, encoding: str = \"iso-8859-1\"):\n",
    "        return self.raw.decode(encoding)\n",
    "    \n",
    "    def _parse_string(self):\n",
    "        # split the decoded string along line breaks\n",
    "        data_line_list = self.string.splitlines()\n",
    "        \n",
    "        # extract the first line of the request and parse it separately\n",
    "        header_line = data_line_list.pop(0)\n",
    "\n",
    "        # parse the data\n",
    "        self._parse_header(header_line)\n",
    "        self._parse_body(data_line_list)\n",
    "\n",
    "    def _parse_header(self, header_line: str):\n",
    "        # split the header on whitespace\n",
    "        method, path, version = header_line.split()\n",
    "\n",
    "        self.dict['Method'] = method\n",
    "        self.dict['Path'] = path\n",
    "        self.dict['Version'] = version\n",
    "\n",
    "    def _parse_body(self, data_line_list: list):\n",
    "        for data_line in data_line_list:\n",
    "            # if line has contents\n",
    "            if data_line:\n",
    "                field_name, field_val = re.split(':', data_line, 1)\n",
    "                # strip both of leading/trailing whitespace and add to the dict\n",
    "                self.dict[field_name.strip()] = field_val.strip()\n",
    "            \n",
    "HOST = \"127.0.0.1\"\n",
    "PORT = 7713\n",
    "web_proxy = WebProxy(HOST, PORT)\n",
    "web_proxy.start_listener()\n",
    "web_proxy.run()"
   ]
  },
  {
   "cell_type": "code",
   "execution_count": 45,
   "metadata": {},
   "outputs": [
    {
     "data": {
      "text/plain": [
       "{'Method': 'GET',\n",
       " 'Path': '/google.com',\n",
       " 'Version': 'HTTP/1.1',\n",
       " 'Host': '127.0.0.1:7713',\n",
       " 'User-Agent': 'Mozilla/5.0 (Macintosh; Intel Mac OS X 10.15; rv:124.0) Gecko/20100101 Firefox/124.0',\n",
       " 'Accept': 'text/html,application/xhtml+xml,application/xml;q=0.9,image/avif,image/webp,*/*;q=0.8',\n",
       " 'Accept-Language': 'en-US,en;q=0.5',\n",
       " 'Accept-Encoding': 'gzip, deflate, br',\n",
       " 'DNT': '1',\n",
       " 'Sec-GPC': '1',\n",
       " 'Connection': 'keep-alive',\n",
       " 'Upgrade-Insecure-Requests': '1',\n",
       " 'Sec-Fetch-Dest': 'document',\n",
       " 'Sec-Fetch-Mode': 'navigate',\n",
       " 'Sec-Fetch-Site': 'none',\n",
       " 'Sec-Fetch-User': '?1'}"
      ]
     },
     "execution_count": 45,
     "metadata": {},
     "output_type": "execute_result"
    }
   ],
   "source": [
    "test_data = web_proxy.data_list[0]\n",
    "test_parsed_data = HttpParser(test_data)\n",
    "test_parsed_data.dict"
   ]
  },
  {
   "cell_type": "code",
   "execution_count": 6,
   "metadata": {},
   "outputs": [
    {
     "data": {
      "text/plain": [
       "[b'GET /google.com HTTP/1.1\\r\\nHost: 127.0.0.1:7713\\r\\nUser-Agent: Mozilla/5.0 (Macintosh; Intel Mac OS X 10.15; rv:124.0) Gecko/20100101 Firefox/124.0\\r\\nAccept: text/html,application/xhtml+xml,application/xml;q=0.9,image/avif,image/webp,*/*;q=0.8\\r\\nAccept-Language: en-US,en;q=0.5\\r\\nAccept-Encoding: gzip, deflate, br\\r\\nDNT: 1\\r\\nSec-GPC: 1\\r\\nConnection: keep-alive\\r\\nUpgrade-Insecure-Requests: 1\\r\\nSec-Fetch-Dest: document\\r\\nSec-Fetch-Mode: navigate\\r\\nSec-Fetch-Site: none\\r\\nSec-Fetch-User: ?1\\r\\n\\r\\n']"
      ]
     },
     "execution_count": 6,
     "metadata": {},
     "output_type": "execute_result"
    }
   ],
   "source": [
    "valid_data_list = [d for d in data_list if d]\n",
    "valid_data_list"
   ]
  },
  {
   "cell_type": "code",
   "execution_count": 12,
   "metadata": {},
   "outputs": [],
   "source": [
    "test_get = valid_data_list[0]\n",
    "# http is encoded with iso-8859-1\n",
    "test_str = test_get.decode(\"iso-8859-1\")"
   ]
  },
  {
   "cell_type": "code",
   "execution_count": 13,
   "metadata": {},
   "outputs": [
    {
     "name": "stdout",
     "output_type": "stream",
     "text": [
      "GET /google.com HTTP/1.1\n",
      "Host: 127.0.0.1:7713\n",
      "User-Agent: Mozilla/5.0 (Macintosh; Intel Mac OS X 10.15; rv:124.0) Gecko/20100101 Firefox/124.0\n",
      "Accept: text/html,application/xhtml+xml,application/xml;q=0.9,image/avif,image/webp,*/*;q=0.8\n",
      "Accept-Language: en-US,en;q=0.5\n",
      "Accept-Encoding: gzip, deflate, br\n",
      "DNT: 1\n",
      "Sec-GPC: 1\n",
      "Connection: keep-alive\n",
      "Upgrade-Insecure-Requests: 1\n",
      "Sec-Fetch-Dest: document\n",
      "Sec-Fetch-Mode: navigate\n",
      "Sec-Fetch-Site: none\n",
      "Sec-Fetch-User: ?1\n",
      "\n",
      "\n"
     ]
    }
   ],
   "source": [
    "print(test_str)"
   ]
  },
  {
   "cell_type": "code",
   "execution_count": 39,
   "metadata": {},
   "outputs": [],
   "source": []
  },
  {
   "cell_type": "code",
   "execution_count": 33,
   "metadata": {},
   "outputs": [
    {
     "data": {
      "text/plain": [
       "<__main__.HttpData at 0x7fc2b952e2e0>"
      ]
     },
     "execution_count": 33,
     "metadata": {},
     "output_type": "execute_result"
    }
   ],
   "source": [
    "data = HttpParser(test_get)\n",
    "data"
   ]
  },
  {
   "cell_type": "code",
   "execution_count": 20,
   "metadata": {},
   "outputs": [
    {
     "data": {
      "text/plain": [
       "['GET', '/google.com', 'HTTP/1.1']"
      ]
     },
     "execution_count": 20,
     "metadata": {},
     "output_type": "execute_result"
    }
   ],
   "source": []
  },
  {
   "cell_type": "code",
   "execution_count": null,
   "metadata": {},
   "outputs": [],
   "source": []
  }
 ],
 "metadata": {
  "kernelspec": {
   "display_name": "bokeh",
   "language": "python",
   "name": "bokeh"
  },
  "language_info": {
   "codemirror_mode": {
    "name": "ipython",
    "version": 3
   },
   "file_extension": ".py",
   "mimetype": "text/x-python",
   "name": "python",
   "nbconvert_exporter": "python",
   "pygments_lexer": "ipython3",
   "version": "3.8.16"
  }
 },
 "nbformat": 4,
 "nbformat_minor": 2
}
