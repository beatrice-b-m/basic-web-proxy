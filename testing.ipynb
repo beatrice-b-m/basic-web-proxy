{
 "cells": [
  {
   "cell_type": "code",
   "execution_count": 1,
   "metadata": {},
   "outputs": [],
   "source": [
    "import socket\n",
    "# import threading\n",
    "import re\n",
    "import sys\n",
    "import signal\n",
    "from dataclasses import dataclass"
   ]
  },
  {
   "cell_type": "code",
   "execution_count": 8,
   "metadata": {},
   "outputs": [],
   "source": [
    "class WebProxy:\n",
    "    def __init__(self, proxy_host, proxy_port, max_clients: int = 1):\n",
    "        self.proxy_host = proxy_host\n",
    "        self.proxy_port = proxy_port\n",
    "\n",
    "    def start(self):\n",
    "        # bind socket to port and start listening\n",
    "        with socket.socket(socket.AF_INET, socket.SOCK_STREAM) as s:\n",
    "            s.bind((self.proxy_host, self.proxy_port))\n",
    "            s.listen()\n",
    "            print(f\"listening on port {self.proxy_port}...\")\n",
    "\n",
    "            while True:\n",
    "                # wait for a connection\n",
    "                connection, address = s.accept()\n",
    "                print(f\"client {address} connected...\")\n",
    "\n",
    "                with connection as c:\n",
    "                    while True:\n",
    "                        # receive data from the connection\n",
    "                        data = c.recv(1024)\n",
    "\n",
    "                        # if an empty byte-string was received, end the loop\n",
    "                        if not data:\n",
    "                            print(\"closing connection...\")\n",
    "                            break\n",
    "\n",
    "                        parsed_data = HttpParser(data)\n",
    "                        print(f\"data received:\\n{parsed_data.dict}\\n\")\n",
    "\n",
    "                        parsed_data.reformat()\n",
    "\n",
    "\n",
    "class HttpParser:\n",
    "    def __init__(self, data):\n",
    "        self.raw = data\n",
    "        self.dict = dict()\n",
    "\n",
    "        # decode raw byte string using iso-8859-1 encoding\n",
    "        self.string = self._decode_bytes()\n",
    "        print(data)\n",
    "        self._parse_string()\n",
    "\n",
    "    def _decode_bytes(self, encoding: str = \"iso-8859-1\"):\n",
    "        return self.raw.decode(encoding)\n",
    "    \n",
    "    def _parse_string(self):\n",
    "        # split the decoded string along line breaks\n",
    "        data_line_list = self.string.splitlines()\n",
    "        \n",
    "        # extract the first line of the request and parse it separately\n",
    "        header_line = data_line_list.pop(0)\n",
    "\n",
    "        # parse the data\n",
    "        self._parse_header(header_line)\n",
    "        self._parse_body(data_line_list)\n",
    "\n",
    "    def _parse_header(self, header_line: str):\n",
    "        # split the header on whitespace\n",
    "        method, path, version = header_line.split()\n",
    "\n",
    "        self.dict['Method'] = method\n",
    "        self.dict['Path'] = path\n",
    "        self.dict['Version'] = version\n",
    "\n",
    "    def _parse_body(self, data_line_list: list):\n",
    "        for data_line in data_line_list:\n",
    "            # if line has contents\n",
    "            if data_line:\n",
    "                field_name, field_val = re.split(':', data_line, 1)\n",
    "                # strip both of leading/trailing whitespace and add to the dict\n",
    "                self.dict[field_name.strip()] = field_val.strip()\n",
    "\n",
    "    def reformat(self):\n",
    "        data_dict = self.dict.copy()\n",
    "\n",
    "        header_template = \"{} {} {}\\r\\n\"\n",
    "        data_line_template = \"{}: {}\\r\\n\"\n",
    "\n",
    "        # remove header values from the data_dict\n",
    "        method = data_dict.pop('Method')\n",
    "        old_path = data_dict.pop('Path')\n",
    "        version = data_dict.pop('Version')\n",
    "\n",
    "        # get the new path and host and update the dict with them\n",
    "        new_path, new_host = self._reformat_path_host(old_path)\n",
    "        data_dict['Host'] = new_host\n",
    "\n",
    "        # format new header\n",
    "        out_str = header_template.format(\n",
    "            method, \n",
    "            new_path, \n",
    "            version\n",
    "        )\n",
    "        for k, v in data_dict.items():\n",
    "            # format the current data line and append it to the string\n",
    "            data_line = data_line_template.format(k, v)\n",
    "            out_str += data_line\n",
    "\n",
    "        # append the final \\r\\n to the string and format it as a bytestring\n",
    "        out_str += \"\\r\\n\"\n",
    "        out_byte_str = out_str.encode()\n",
    "\n",
    "        print(\"out:\\n\",out_byte_str)\n",
    "\n",
    "    def _reformat_path_host(self, old_path):\n",
    "        if old_path == '/':\n",
    "            # raise some exception/return a message asking the user to specify a URL\n",
    "            print('implement this :)')\n",
    "\n",
    "        # add a slash to the end if it's missing\n",
    "        if old_path[-1] != \"/\":\n",
    "            old_path += \"/\"\n",
    "\n",
    "        # find the index of the first \"/\"\n",
    "        split_index = old_path.find('/', 1)\n",
    "\n",
    "        # split the string on the split index\n",
    "        new_host = old_path[:split_index]\n",
    "        new_path = old_path[split_index:]\n",
    "        return new_path, new_host\n",
    "            \n",
    "HOST = \"127.0.0.1\"\n",
    "PORT = 7713\n",
    "web_proxy = WebProxy(HOST, PORT)\n",
    "\n",
    "\n",
    "\n"
   ]
  },
  {
   "cell_type": "code",
   "execution_count": 9,
   "metadata": {},
   "outputs": [
    {
     "name": "stdout",
     "output_type": "stream",
     "text": [
      "listening on port 7713...\n",
      "client ('127.0.0.1', 64601) connected...\n",
      "b'GET /google.com HTTP/1.1\\r\\nHost: 127.0.0.1:7713\\r\\nUser-Agent: Mozilla/5.0 (Macintosh; Intel Mac OS X 10.15; rv:124.0) Gecko/20100101 Firefox/124.0\\r\\nAccept: text/html,application/xhtml+xml,application/xml;q=0.9,image/avif,image/webp,*/*;q=0.8\\r\\nAccept-Language: en-US,en;q=0.5\\r\\nAccept-Encoding: gzip, deflate, br\\r\\nDNT: 1\\r\\nSec-GPC: 1\\r\\nConnection: keep-alive\\r\\nUpgrade-Insecure-Requests: 1\\r\\nSec-Fetch-Dest: document\\r\\nSec-Fetch-Mode: navigate\\r\\nSec-Fetch-Site: none\\r\\nSec-Fetch-User: ?1\\r\\n\\r\\n'\n",
      "data received:\n",
      "{'Method': 'GET', 'Path': '/google.com', 'Version': 'HTTP/1.1', 'Host': '127.0.0.1:7713', 'User-Agent': 'Mozilla/5.0 (Macintosh; Intel Mac OS X 10.15; rv:124.0) Gecko/20100101 Firefox/124.0', 'Accept': 'text/html,application/xhtml+xml,application/xml;q=0.9,image/avif,image/webp,*/*;q=0.8', 'Accept-Language': 'en-US,en;q=0.5', 'Accept-Encoding': 'gzip, deflate, br', 'DNT': '1', 'Sec-GPC': '1', 'Connection': 'keep-alive', 'Upgrade-Insecure-Requests': '1', 'Sec-Fetch-Dest': 'document', 'Sec-Fetch-Mode': 'navigate', 'Sec-Fetch-Site': 'none', 'Sec-Fetch-User': '?1'}\n",
      "\n",
      "out:\n",
      " b'GET / HTTP/1.1\\r\\nHost: /google.com\\r\\nUser-Agent: Mozilla/5.0 (Macintosh; Intel Mac OS X 10.15; rv:124.0) Gecko/20100101 Firefox/124.0\\r\\nAccept: text/html,application/xhtml+xml,application/xml;q=0.9,image/avif,image/webp,*/*;q=0.8\\r\\nAccept-Language: en-US,en;q=0.5\\r\\nAccept-Encoding: gzip, deflate, br\\r\\nDNT: 1\\r\\nSec-GPC: 1\\r\\nConnection: keep-alive\\r\\nUpgrade-Insecure-Requests: 1\\r\\nSec-Fetch-Dest: document\\r\\nSec-Fetch-Mode: navigate\\r\\nSec-Fetch-Site: none\\r\\nSec-Fetch-User: ?1\\r\\n\\r\\n'\n"
     ]
    },
    {
     "ename": "KeyboardInterrupt",
     "evalue": "",
     "output_type": "error",
     "traceback": [
      "\u001b[0;31m---------------------------------------------------------------------------\u001b[0m",
      "\u001b[0;31mKeyboardInterrupt\u001b[0m                         Traceback (most recent call last)",
      "Cell \u001b[0;32mIn[9], line 1\u001b[0m\n\u001b[0;32m----> 1\u001b[0m \u001b[43mweb_proxy\u001b[49m\u001b[38;5;241;43m.\u001b[39;49m\u001b[43mstart\u001b[49m\u001b[43m(\u001b[49m\u001b[43m)\u001b[49m\n",
      "Cell \u001b[0;32mIn[8], line 21\u001b[0m, in \u001b[0;36mWebProxy.start\u001b[0;34m(self)\u001b[0m\n\u001b[1;32m     18\u001b[0m \u001b[38;5;28;01mwith\u001b[39;00m connection \u001b[38;5;28;01mas\u001b[39;00m c:\n\u001b[1;32m     19\u001b[0m     \u001b[38;5;28;01mwhile\u001b[39;00m \u001b[38;5;28;01mTrue\u001b[39;00m:\n\u001b[1;32m     20\u001b[0m         \u001b[38;5;66;03m# receive data from the connection\u001b[39;00m\n\u001b[0;32m---> 21\u001b[0m         data \u001b[38;5;241m=\u001b[39m \u001b[43mc\u001b[49m\u001b[38;5;241;43m.\u001b[39;49m\u001b[43mrecv\u001b[49m\u001b[43m(\u001b[49m\u001b[38;5;241;43m1024\u001b[39;49m\u001b[43m)\u001b[49m\n\u001b[1;32m     23\u001b[0m         \u001b[38;5;66;03m# if an empty byte-string was received, end the loop\u001b[39;00m\n\u001b[1;32m     24\u001b[0m         \u001b[38;5;28;01mif\u001b[39;00m \u001b[38;5;129;01mnot\u001b[39;00m data:\n",
      "\u001b[0;31mKeyboardInterrupt\u001b[0m: "
     ]
    }
   ],
   "source": [
    "web_proxy.start()"
   ]
  },
  {
   "cell_type": "code",
   "execution_count": 45,
   "metadata": {},
   "outputs": [
    {
     "data": {
      "text/plain": [
       "{'Method': 'GET',\n",
       " 'Path': '/google.com',\n",
       " 'Version': 'HTTP/1.1',\n",
       " 'Host': '127.0.0.1:7713',\n",
       " 'User-Agent': 'Mozilla/5.0 (Macintosh; Intel Mac OS X 10.15; rv:124.0) Gecko/20100101 Firefox/124.0',\n",
       " 'Accept': 'text/html,application/xhtml+xml,application/xml;q=0.9,image/avif,image/webp,*/*;q=0.8',\n",
       " 'Accept-Language': 'en-US,en;q=0.5',\n",
       " 'Accept-Encoding': 'gzip, deflate, br',\n",
       " 'DNT': '1',\n",
       " 'Sec-GPC': '1',\n",
       " 'Connection': 'keep-alive',\n",
       " 'Upgrade-Insecure-Requests': '1',\n",
       " 'Sec-Fetch-Dest': 'document',\n",
       " 'Sec-Fetch-Mode': 'navigate',\n",
       " 'Sec-Fetch-Site': 'none',\n",
       " 'Sec-Fetch-User': '?1'}"
      ]
     },
     "execution_count": 45,
     "metadata": {},
     "output_type": "execute_result"
    }
   ],
   "source": [
    "test_data = web_proxy.data_list[0]\n",
    "test_parsed_data = HttpParser(test_data)\n",
    "test_parsed_data.dict"
   ]
  },
  {
   "cell_type": "code",
   "execution_count": null,
   "metadata": {},
   "outputs": [],
   "source": []
  },
  {
   "cell_type": "code",
   "execution_count": 5,
   "metadata": {},
   "outputs": [
    {
     "name": "stdout",
     "output_type": "stream",
     "text": [
      "20\n",
      "20\n",
      "20\n",
      "20\n",
      "20\n",
      "20\n",
      "20\n",
      "20\n",
      "20\n",
      "20\n",
      "16\n",
      "16\n",
      "16\n",
      "16\n",
      "16\n",
      "16\n",
      "16\n",
      "16\n",
      "16\n",
      "16\n",
      "12\n",
      "12\n",
      "12\n",
      "12\n",
      "12\n",
      "12\n",
      "12\n",
      "12\n",
      "12\n",
      "7\n",
      "7\n",
      "7\n",
      "7\n",
      "7\n",
      "7\n",
      "7\n",
      "7\n",
      "7\n",
      "7\n",
      "1\n",
      "1\n",
      "1\n",
      "1\n",
      "1\n",
      "1\n",
      "1\n",
      "1\n",
      "1\n"
     ]
    }
   ],
   "source": [
    "import threading\n",
    "import time\n",
    "import random\n",
    "\n",
    "def foo(a, b):\n",
    "    _ = a + b\n",
    "    time.sleep(random.randint(1, 5))\n",
    "    thread_list.remove(threading.current_thread())\n",
    "\n",
    "thread_list = []\n",
    "a = 2\n",
    "b = 2\n",
    "\n",
    "for i in range(20):\n",
    "    t = threading.Thread(target=foo, args=[a, b])\n",
    "    thread_list.append(t)\n",
    "\n",
    "for t in thread_list:\n",
    "    t.start()\n",
    "\n",
    "while thread_list:\n",
    "    print(len(thread_list))\n",
    "    time.sleep(0.1)"
   ]
  },
  {
   "cell_type": "code",
   "execution_count": 19,
   "metadata": {},
   "outputs": [
    {
     "name": "stdout",
     "output_type": "stream",
     "text": [
      "/google.com\n",
      "/\n"
     ]
    }
   ],
   "source": [
    "test_path = \"/google.com\"\n",
    "\n",
    "# add a slash to the end if it's missing\n",
    "if test_path[-1] != \"/\":\n",
    "    test_path += \"/\"\n",
    "\n",
    "# find the index of the first \"/\"\n",
    "split_index = test_path.find('/', 1)\n",
    "\n",
    "# split the string on the split index\n",
    "new_host = test_path[:split_index]\n",
    "new_path = test_path[split_index:]\n",
    "\n",
    "print(new_host)\n",
    "print(new_path)"
   ]
  },
  {
   "cell_type": "code",
   "execution_count": 6,
   "metadata": {},
   "outputs": [
    {
     "data": {
      "text/plain": [
       "[b'GET /google.com HTTP/1.1\\r\\nHost: 127.0.0.1:7713\\r\\nUser-Agent: Mozilla/5.0 (Macintosh; Intel Mac OS X 10.15; rv:124.0) Gecko/20100101 Firefox/124.0\\r\\nAccept: text/html,application/xhtml+xml,application/xml;q=0.9,image/avif,image/webp,*/*;q=0.8\\r\\nAccept-Language: en-US,en;q=0.5\\r\\nAccept-Encoding: gzip, deflate, br\\r\\nDNT: 1\\r\\nSec-GPC: 1\\r\\nConnection: keep-alive\\r\\nUpgrade-Insecure-Requests: 1\\r\\nSec-Fetch-Dest: document\\r\\nSec-Fetch-Mode: navigate\\r\\nSec-Fetch-Site: none\\r\\nSec-Fetch-User: ?1\\r\\n\\r\\n']"
      ]
     },
     "execution_count": 6,
     "metadata": {},
     "output_type": "execute_result"
    }
   ],
   "source": [
    "valid_data_list = [d for d in data_list if d]\n",
    "valid_data_list"
   ]
  },
  {
   "cell_type": "code",
   "execution_count": 12,
   "metadata": {},
   "outputs": [],
   "source": [
    "test_get = valid_data_list[0]\n",
    "# http is encoded with iso-8859-1\n",
    "test_str = test_get.decode(\"iso-8859-1\")"
   ]
  },
  {
   "cell_type": "code",
   "execution_count": 13,
   "metadata": {},
   "outputs": [
    {
     "name": "stdout",
     "output_type": "stream",
     "text": [
      "GET /google.com HTTP/1.1\n",
      "Host: 127.0.0.1:7713\n",
      "User-Agent: Mozilla/5.0 (Macintosh; Intel Mac OS X 10.15; rv:124.0) Gecko/20100101 Firefox/124.0\n",
      "Accept: text/html,application/xhtml+xml,application/xml;q=0.9,image/avif,image/webp,*/*;q=0.8\n",
      "Accept-Language: en-US,en;q=0.5\n",
      "Accept-Encoding: gzip, deflate, br\n",
      "DNT: 1\n",
      "Sec-GPC: 1\n",
      "Connection: keep-alive\n",
      "Upgrade-Insecure-Requests: 1\n",
      "Sec-Fetch-Dest: document\n",
      "Sec-Fetch-Mode: navigate\n",
      "Sec-Fetch-Site: none\n",
      "Sec-Fetch-User: ?1\n",
      "\n",
      "\n"
     ]
    }
   ],
   "source": [
    "print(test_str)"
   ]
  },
  {
   "cell_type": "code",
   "execution_count": 39,
   "metadata": {},
   "outputs": [],
   "source": []
  },
  {
   "cell_type": "code",
   "execution_count": 33,
   "metadata": {},
   "outputs": [
    {
     "data": {
      "text/plain": [
       "<__main__.HttpData at 0x7fc2b952e2e0>"
      ]
     },
     "execution_count": 33,
     "metadata": {},
     "output_type": "execute_result"
    }
   ],
   "source": [
    "data = HttpParser(test_get)\n",
    "data"
   ]
  },
  {
   "cell_type": "code",
   "execution_count": 20,
   "metadata": {},
   "outputs": [
    {
     "data": {
      "text/plain": [
       "['GET', '/google.com', 'HTTP/1.1']"
      ]
     },
     "execution_count": 20,
     "metadata": {},
     "output_type": "execute_result"
    }
   ],
   "source": []
  },
  {
   "cell_type": "code",
   "execution_count": null,
   "metadata": {},
   "outputs": [],
   "source": []
  }
 ],
 "metadata": {
  "kernelspec": {
   "display_name": "bokeh",
   "language": "python",
   "name": "bokeh"
  },
  "language_info": {
   "codemirror_mode": {
    "name": "ipython",
    "version": 3
   },
   "file_extension": ".py",
   "mimetype": "text/x-python",
   "name": "python",
   "nbconvert_exporter": "python",
   "pygments_lexer": "ipython3",
   "version": "3.8.16"
  }
 },
 "nbformat": 4,
 "nbformat_minor": 2
}
